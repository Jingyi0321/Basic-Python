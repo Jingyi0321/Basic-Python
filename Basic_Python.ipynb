{
  "nbformat": 4,
  "nbformat_minor": 0,
  "metadata": {
    "colab": {
      "name": "HW1_Fang_Jingyi.ipynb",
      "provenance": [],
      "collapsed_sections": []
    },
    "kernelspec": {
      "display_name": "Python 3",
      "name": "python3"
    }
  },
  "cells": [
    {
      "cell_type": "markdown",
      "metadata": {
        "id": "hm8RAKinXsIP"
      },
      "source": [
        "## **Homework 1**\n",
        "\n",
        "### Create a copy of the notebook to start answering the questions. Name your notebook in the format HW1_lastname_firstname.ipynb to facilitate the grading process. \n",
        "\n",
        "### Answer all the questions, test your code to ensure there are no errors and the results are as expected. Once you have answered all the questions, save the final copy, then go to File-> click on Download.ipynb. Once the local copy has been downloaded, submit your file on Blackboard under the corresponding assignment section. Also provide us a link to your notebook during submission. \n",
        "\n",
        "### **The due date of this homework is 02/05/2021 (Friday).**\n",
        "\n",
        "### Please ensure you follow all the steps mentioned in the homework.\n",
        "\n",
        "### All the questions have a sample input and output to help you understand the question. Please note that your programs will be tested for other sets of inputs and outputs along with the sample provided. So test your code for other inputs.\n",
        "\n",
        "### You can submit your solutions any number of times until the deadline.\n"
      ]
    },
    {
      "cell_type": "markdown",
      "metadata": {
        "id": "uacFrEaZfcfq"
      },
      "source": [
        "##### Q1. Write a program that prompts the user to enter a password then prints the length of the password.\n",
        "\n",
        "```\n",
        "Enter your password: hello\n",
        "Your password is 5 long.\n",
        "```\n",
        "\n",
        "\n"
      ]
    },
    {
      "cell_type": "code",
      "metadata": {
        "colab": {
          "base_uri": "https://localhost:8080/"
        },
        "id": "avPyES14ftCt",
        "outputId": "f537d0eb-06f4-4db1-ea0d-efcb5371e83d"
      },
      "source": [
        "count = 0\n",
        "password = input(\"Enter your password: \")\n",
        "for letter in password:\n",
        "  count = count + 1\n",
        "print(\"Your password is\",count,\"long.\")"
      ],
      "execution_count": null,
      "outputs": [
        {
          "output_type": "stream",
          "text": [
            "Enter your password: hello\n",
            "Your password is 5 long.\n"
          ],
          "name": "stdout"
        }
      ]
    },
    {
      "cell_type": "markdown",
      "metadata": {
        "id": "behD0j_Of2TW"
      },
      "source": [
        "##### Q2. Write a program that prompts the user to enter their full name then prints the number of characters in their name (do not count spaces).\n",
        "\n",
        "```\n",
        "What is your name? Amulya Katti\n",
        "Amulya Katti your name has 11 characters.\n",
        "```"
      ]
    },
    {
      "cell_type": "code",
      "metadata": {
        "colab": {
          "base_uri": "https://localhost:8080/"
        },
        "id": "XSdIRjwlhSlu",
        "outputId": "29a307fb-1326-46a0-db13-cbe42d70f67e"
      },
      "source": [
        "count = 0\n",
        "name = input(\"What is your name? \")\n",
        "for letter in name.replace(' ',''):\n",
        "  count += 1\n",
        "print(name,\"your name has\",count,\"characters.\")"
      ],
      "execution_count": null,
      "outputs": [
        {
          "output_type": "stream",
          "text": [
            "What is your name? Amulya Katti\n",
            "Amulya Katti your name has 11 characters.\n"
          ],
          "name": "stdout"
        }
      ]
    },
    {
      "cell_type": "markdown",
      "metadata": {
        "id": "5KHOWF6FhVHV"
      },
      "source": [
        "##### Q3. Write a program that prompts the user to enter a month (as a number), then prints the name of the month and the number of days in that month. Ensure that the user inputs a valid month and handle any error cases.\n",
        "\n",
        "```\n",
        "Enter the month number: 9\n",
        "September has 30 days\n",
        "```"
      ]
    },
    {
      "cell_type": "code",
      "metadata": {
        "colab": {
          "base_uri": "https://localhost:8080/"
        },
        "id": "KhS-SAEThyTG",
        "outputId": "741d43d5-d09b-418e-a4ac-edaed5ce045f"
      },
      "source": [
        "import calendar\n",
        "month = input(\"Enter the month number: \")\n",
        "if month.isdigit() and 1<= int(month) <= 12:\n",
        "  if month == \"2\":\n",
        "\t  days = \"28/29\"\n",
        "  elif month in (\"4\", \"6\", \"9\", \"11\"):\n",
        "\t  days = \"30\"\n",
        "  elif month in (\"1\", \"3\", \"5\", \"7\", \"8\", \"10\", \"12\"):\n",
        "\t  days = \"31\"\n",
        "  monthname = calendar.month_name[int(month)]\n",
        "  print(monthname,\"has\",days,\"days\")\n",
        "else:\n",
        "    print(\"Invalid Input!\")\n",
        "\n"
      ],
      "execution_count": null,
      "outputs": [
        {
          "output_type": "stream",
          "text": [
            "Enter the month number: -1\n",
            "Invalid Input!\n"
          ],
          "name": "stdout"
        }
      ]
    },
    {
      "cell_type": "markdown",
      "metadata": {
        "id": "O7lnAdGlh6Xa"
      },
      "source": [
        "##### Q4. Write a program that prompts the user to enter a loan amount, annual interest rate, and number of years  for a car loan. Then calculate and print the monthly payment amount.\n",
        "\n",
        "Note:\n",
        "```\n",
        "PMT= [PV*i*((1+i)^n)]/[((1+i)^n)-1]\n",
        "```\n",
        "PMT is the monthly payment\n",
        "\n",
        "PV is the loan amount\n",
        "\n",
        "i is the interest rate per month in decimal form (interest rate percentage divided by 12)\n",
        "\n",
        "n is the number of months (term of the loan in months)\n",
        "\n",
        "```\n",
        "Loan Amount: 30000.00\n",
        "Annual Interest Rate: 4.00\n",
        "Years: 5\n",
        "Your monthly payment is: $552.50\n",
        "```"
      ]
    },
    {
      "cell_type": "code",
      "metadata": {
        "colab": {
          "base_uri": "https://localhost:8080/"
        },
        "id": "p4B5JH5GiTs9",
        "outputId": "04aeef63-3230-40ea-db37-ad08dbdf9e07"
      },
      "source": [
        "PV = float(input(\"Loan Amount: \"))\n",
        "i = (float(input(\"Annual Interest Rate: \"))/100)/12\n",
        "n = float(input(\"Years: \"))*12\n",
        "PMT = round((PV*i*(pow(1+i,n)))/(pow(1+i,n)-1),2)\n",
        "print(\"Your monthly payment is: $\"+str(PMT))\n",
        "\n"
      ],
      "execution_count": null,
      "outputs": [
        {
          "output_type": "stream",
          "text": [
            "Loan Amount: 30000.00\n",
            "Annual Interest Rate: 4.00\n",
            "Years: 5\n",
            "Your monthly payment is: $552.5\n"
          ],
          "name": "stdout"
        }
      ]
    },
    {
      "cell_type": "markdown",
      "metadata": {
        "id": "SjiolJKgiWV-"
      },
      "source": [
        "##### Q5. Write a program to that prompts the user to enter a string. Then check whether or not the string is a palindrome.\n",
        "\n",
        "```\n",
        "Enter a string: Madam\n",
        "Madam, is a palindrome!\n",
        "```"
      ]
    },
    {
      "cell_type": "code",
      "metadata": {
        "colab": {
          "base_uri": "https://localhost:8080/"
        },
        "id": "F5_M934Ri0es",
        "outputId": "e05c9123-3a19-41c0-f92f-4717fc51c233"
      },
      "source": [
        "string = input(\"Enter a string: \")\n",
        "palindrome = False\n",
        "for i in range(0,len(string)//2,1): #integer divison \n",
        "  if string[i] == string[len(string)-1-i]:\n",
        "    palindrome = True\n",
        "if palindrome:\n",
        "  print(string+\",\",\"is a palindrome!\")\n"
      ],
      "execution_count": null,
      "outputs": [
        {
          "output_type": "stream",
          "text": [
            "Enter a string: Madam\n",
            "Madam, is a palindrome!\n"
          ],
          "name": "stdout"
        }
      ]
    },
    {
      "cell_type": "markdown",
      "metadata": {
        "id": "BLBD6n9vkJEu"
      },
      "source": [
        "##### Q6. Write a program to compute and print all possible combinations of change for \\$1. Denominations to be considered – quarter, dime, nickel, penny.\n",
        "\n",
        "Hint: Use nested loops (loops within loops for the various denominations of coins)\n",
        "\n",
        "```\n",
        "Change for $1:\n",
        "0 quarters, 0 dimes, 0 nickels, 100 pennies\n",
        "…\n",
        "4 quarters, 0 dimes, 0 nickels, 0 pennies\n",
        "```"
      ]
    },
    {
      "cell_type": "code",
      "metadata": {
        "id": "kAQsTjwDkZZ5",
        "colab": {
          "base_uri": "https://localhost:8080/"
        },
        "outputId": "ee85ee3c-3d95-4f67-dea2-4d316e2cf31e"
      },
      "source": [
        "print(\"Change for $1:\")\n",
        "for quarter in range(0,5):\n",
        "  for dime in range(0,11):\n",
        "    for nickel in range(0,21):\n",
        "      for penny in range(0,101):\n",
        "        if(25*quarter + 10*dime + 5*nickel + penny==100):\n",
        "          print(quarter,\"quarters,\",dime,\"dimes,\",nickel,\"nickels,\",penny,\"pennies.\" )\n",
        "# 1 nickle = 5 pennies\n",
        "# 1 dime = 10 pennies \n",
        "# 1 quarter = 25 pennies "
      ],
      "execution_count": 67,
      "outputs": [
        {
          "output_type": "stream",
          "text": [
            "Change for $1:\n",
            "0 quarters, 0 dimes, 0 nickels, 100 pennies.\n",
            "0 quarters, 0 dimes, 1 nickels, 95 pennies.\n",
            "0 quarters, 0 dimes, 2 nickels, 90 pennies.\n",
            "0 quarters, 0 dimes, 3 nickels, 85 pennies.\n",
            "0 quarters, 0 dimes, 4 nickels, 80 pennies.\n",
            "0 quarters, 0 dimes, 5 nickels, 75 pennies.\n",
            "0 quarters, 0 dimes, 6 nickels, 70 pennies.\n",
            "0 quarters, 0 dimes, 7 nickels, 65 pennies.\n",
            "0 quarters, 0 dimes, 8 nickels, 60 pennies.\n",
            "0 quarters, 0 dimes, 9 nickels, 55 pennies.\n",
            "0 quarters, 0 dimes, 10 nickels, 50 pennies.\n",
            "0 quarters, 0 dimes, 11 nickels, 45 pennies.\n",
            "0 quarters, 0 dimes, 12 nickels, 40 pennies.\n",
            "0 quarters, 0 dimes, 13 nickels, 35 pennies.\n",
            "0 quarters, 0 dimes, 14 nickels, 30 pennies.\n",
            "0 quarters, 0 dimes, 15 nickels, 25 pennies.\n",
            "0 quarters, 0 dimes, 16 nickels, 20 pennies.\n",
            "0 quarters, 0 dimes, 17 nickels, 15 pennies.\n",
            "0 quarters, 0 dimes, 18 nickels, 10 pennies.\n",
            "0 quarters, 0 dimes, 19 nickels, 5 pennies.\n",
            "0 quarters, 0 dimes, 20 nickels, 0 pennies.\n",
            "0 quarters, 1 dimes, 0 nickels, 90 pennies.\n",
            "0 quarters, 1 dimes, 1 nickels, 85 pennies.\n",
            "0 quarters, 1 dimes, 2 nickels, 80 pennies.\n",
            "0 quarters, 1 dimes, 3 nickels, 75 pennies.\n",
            "0 quarters, 1 dimes, 4 nickels, 70 pennies.\n",
            "0 quarters, 1 dimes, 5 nickels, 65 pennies.\n",
            "0 quarters, 1 dimes, 6 nickels, 60 pennies.\n",
            "0 quarters, 1 dimes, 7 nickels, 55 pennies.\n",
            "0 quarters, 1 dimes, 8 nickels, 50 pennies.\n",
            "0 quarters, 1 dimes, 9 nickels, 45 pennies.\n",
            "0 quarters, 1 dimes, 10 nickels, 40 pennies.\n",
            "0 quarters, 1 dimes, 11 nickels, 35 pennies.\n",
            "0 quarters, 1 dimes, 12 nickels, 30 pennies.\n",
            "0 quarters, 1 dimes, 13 nickels, 25 pennies.\n",
            "0 quarters, 1 dimes, 14 nickels, 20 pennies.\n",
            "0 quarters, 1 dimes, 15 nickels, 15 pennies.\n",
            "0 quarters, 1 dimes, 16 nickels, 10 pennies.\n",
            "0 quarters, 1 dimes, 17 nickels, 5 pennies.\n",
            "0 quarters, 1 dimes, 18 nickels, 0 pennies.\n",
            "0 quarters, 2 dimes, 0 nickels, 80 pennies.\n",
            "0 quarters, 2 dimes, 1 nickels, 75 pennies.\n",
            "0 quarters, 2 dimes, 2 nickels, 70 pennies.\n",
            "0 quarters, 2 dimes, 3 nickels, 65 pennies.\n",
            "0 quarters, 2 dimes, 4 nickels, 60 pennies.\n",
            "0 quarters, 2 dimes, 5 nickels, 55 pennies.\n",
            "0 quarters, 2 dimes, 6 nickels, 50 pennies.\n",
            "0 quarters, 2 dimes, 7 nickels, 45 pennies.\n",
            "0 quarters, 2 dimes, 8 nickels, 40 pennies.\n",
            "0 quarters, 2 dimes, 9 nickels, 35 pennies.\n",
            "0 quarters, 2 dimes, 10 nickels, 30 pennies.\n",
            "0 quarters, 2 dimes, 11 nickels, 25 pennies.\n",
            "0 quarters, 2 dimes, 12 nickels, 20 pennies.\n",
            "0 quarters, 2 dimes, 13 nickels, 15 pennies.\n",
            "0 quarters, 2 dimes, 14 nickels, 10 pennies.\n",
            "0 quarters, 2 dimes, 15 nickels, 5 pennies.\n",
            "0 quarters, 2 dimes, 16 nickels, 0 pennies.\n",
            "0 quarters, 3 dimes, 0 nickels, 70 pennies.\n",
            "0 quarters, 3 dimes, 1 nickels, 65 pennies.\n",
            "0 quarters, 3 dimes, 2 nickels, 60 pennies.\n",
            "0 quarters, 3 dimes, 3 nickels, 55 pennies.\n",
            "0 quarters, 3 dimes, 4 nickels, 50 pennies.\n",
            "0 quarters, 3 dimes, 5 nickels, 45 pennies.\n",
            "0 quarters, 3 dimes, 6 nickels, 40 pennies.\n",
            "0 quarters, 3 dimes, 7 nickels, 35 pennies.\n",
            "0 quarters, 3 dimes, 8 nickels, 30 pennies.\n",
            "0 quarters, 3 dimes, 9 nickels, 25 pennies.\n",
            "0 quarters, 3 dimes, 10 nickels, 20 pennies.\n",
            "0 quarters, 3 dimes, 11 nickels, 15 pennies.\n",
            "0 quarters, 3 dimes, 12 nickels, 10 pennies.\n",
            "0 quarters, 3 dimes, 13 nickels, 5 pennies.\n",
            "0 quarters, 3 dimes, 14 nickels, 0 pennies.\n",
            "0 quarters, 4 dimes, 0 nickels, 60 pennies.\n",
            "0 quarters, 4 dimes, 1 nickels, 55 pennies.\n",
            "0 quarters, 4 dimes, 2 nickels, 50 pennies.\n",
            "0 quarters, 4 dimes, 3 nickels, 45 pennies.\n",
            "0 quarters, 4 dimes, 4 nickels, 40 pennies.\n",
            "0 quarters, 4 dimes, 5 nickels, 35 pennies.\n",
            "0 quarters, 4 dimes, 6 nickels, 30 pennies.\n",
            "0 quarters, 4 dimes, 7 nickels, 25 pennies.\n",
            "0 quarters, 4 dimes, 8 nickels, 20 pennies.\n",
            "0 quarters, 4 dimes, 9 nickels, 15 pennies.\n",
            "0 quarters, 4 dimes, 10 nickels, 10 pennies.\n",
            "0 quarters, 4 dimes, 11 nickels, 5 pennies.\n",
            "0 quarters, 4 dimes, 12 nickels, 0 pennies.\n",
            "0 quarters, 5 dimes, 0 nickels, 50 pennies.\n",
            "0 quarters, 5 dimes, 1 nickels, 45 pennies.\n",
            "0 quarters, 5 dimes, 2 nickels, 40 pennies.\n",
            "0 quarters, 5 dimes, 3 nickels, 35 pennies.\n",
            "0 quarters, 5 dimes, 4 nickels, 30 pennies.\n",
            "0 quarters, 5 dimes, 5 nickels, 25 pennies.\n",
            "0 quarters, 5 dimes, 6 nickels, 20 pennies.\n",
            "0 quarters, 5 dimes, 7 nickels, 15 pennies.\n",
            "0 quarters, 5 dimes, 8 nickels, 10 pennies.\n",
            "0 quarters, 5 dimes, 9 nickels, 5 pennies.\n",
            "0 quarters, 5 dimes, 10 nickels, 0 pennies.\n",
            "0 quarters, 6 dimes, 0 nickels, 40 pennies.\n",
            "0 quarters, 6 dimes, 1 nickels, 35 pennies.\n",
            "0 quarters, 6 dimes, 2 nickels, 30 pennies.\n",
            "0 quarters, 6 dimes, 3 nickels, 25 pennies.\n",
            "0 quarters, 6 dimes, 4 nickels, 20 pennies.\n",
            "0 quarters, 6 dimes, 5 nickels, 15 pennies.\n",
            "0 quarters, 6 dimes, 6 nickels, 10 pennies.\n",
            "0 quarters, 6 dimes, 7 nickels, 5 pennies.\n",
            "0 quarters, 6 dimes, 8 nickels, 0 pennies.\n",
            "0 quarters, 7 dimes, 0 nickels, 30 pennies.\n",
            "0 quarters, 7 dimes, 1 nickels, 25 pennies.\n",
            "0 quarters, 7 dimes, 2 nickels, 20 pennies.\n",
            "0 quarters, 7 dimes, 3 nickels, 15 pennies.\n",
            "0 quarters, 7 dimes, 4 nickels, 10 pennies.\n",
            "0 quarters, 7 dimes, 5 nickels, 5 pennies.\n",
            "0 quarters, 7 dimes, 6 nickels, 0 pennies.\n",
            "0 quarters, 8 dimes, 0 nickels, 20 pennies.\n",
            "0 quarters, 8 dimes, 1 nickels, 15 pennies.\n",
            "0 quarters, 8 dimes, 2 nickels, 10 pennies.\n",
            "0 quarters, 8 dimes, 3 nickels, 5 pennies.\n",
            "0 quarters, 8 dimes, 4 nickels, 0 pennies.\n",
            "0 quarters, 9 dimes, 0 nickels, 10 pennies.\n",
            "0 quarters, 9 dimes, 1 nickels, 5 pennies.\n",
            "0 quarters, 9 dimes, 2 nickels, 0 pennies.\n",
            "0 quarters, 10 dimes, 0 nickels, 0 pennies.\n",
            "1 quarters, 0 dimes, 0 nickels, 75 pennies.\n",
            "1 quarters, 0 dimes, 1 nickels, 70 pennies.\n",
            "1 quarters, 0 dimes, 2 nickels, 65 pennies.\n",
            "1 quarters, 0 dimes, 3 nickels, 60 pennies.\n",
            "1 quarters, 0 dimes, 4 nickels, 55 pennies.\n",
            "1 quarters, 0 dimes, 5 nickels, 50 pennies.\n",
            "1 quarters, 0 dimes, 6 nickels, 45 pennies.\n",
            "1 quarters, 0 dimes, 7 nickels, 40 pennies.\n",
            "1 quarters, 0 dimes, 8 nickels, 35 pennies.\n",
            "1 quarters, 0 dimes, 9 nickels, 30 pennies.\n",
            "1 quarters, 0 dimes, 10 nickels, 25 pennies.\n",
            "1 quarters, 0 dimes, 11 nickels, 20 pennies.\n",
            "1 quarters, 0 dimes, 12 nickels, 15 pennies.\n",
            "1 quarters, 0 dimes, 13 nickels, 10 pennies.\n",
            "1 quarters, 0 dimes, 14 nickels, 5 pennies.\n",
            "1 quarters, 0 dimes, 15 nickels, 0 pennies.\n",
            "1 quarters, 1 dimes, 0 nickels, 65 pennies.\n",
            "1 quarters, 1 dimes, 1 nickels, 60 pennies.\n",
            "1 quarters, 1 dimes, 2 nickels, 55 pennies.\n",
            "1 quarters, 1 dimes, 3 nickels, 50 pennies.\n",
            "1 quarters, 1 dimes, 4 nickels, 45 pennies.\n",
            "1 quarters, 1 dimes, 5 nickels, 40 pennies.\n",
            "1 quarters, 1 dimes, 6 nickels, 35 pennies.\n",
            "1 quarters, 1 dimes, 7 nickels, 30 pennies.\n",
            "1 quarters, 1 dimes, 8 nickels, 25 pennies.\n",
            "1 quarters, 1 dimes, 9 nickels, 20 pennies.\n",
            "1 quarters, 1 dimes, 10 nickels, 15 pennies.\n",
            "1 quarters, 1 dimes, 11 nickels, 10 pennies.\n",
            "1 quarters, 1 dimes, 12 nickels, 5 pennies.\n",
            "1 quarters, 1 dimes, 13 nickels, 0 pennies.\n",
            "1 quarters, 2 dimes, 0 nickels, 55 pennies.\n",
            "1 quarters, 2 dimes, 1 nickels, 50 pennies.\n",
            "1 quarters, 2 dimes, 2 nickels, 45 pennies.\n",
            "1 quarters, 2 dimes, 3 nickels, 40 pennies.\n",
            "1 quarters, 2 dimes, 4 nickels, 35 pennies.\n",
            "1 quarters, 2 dimes, 5 nickels, 30 pennies.\n",
            "1 quarters, 2 dimes, 6 nickels, 25 pennies.\n",
            "1 quarters, 2 dimes, 7 nickels, 20 pennies.\n",
            "1 quarters, 2 dimes, 8 nickels, 15 pennies.\n",
            "1 quarters, 2 dimes, 9 nickels, 10 pennies.\n",
            "1 quarters, 2 dimes, 10 nickels, 5 pennies.\n",
            "1 quarters, 2 dimes, 11 nickels, 0 pennies.\n",
            "1 quarters, 3 dimes, 0 nickels, 45 pennies.\n",
            "1 quarters, 3 dimes, 1 nickels, 40 pennies.\n",
            "1 quarters, 3 dimes, 2 nickels, 35 pennies.\n",
            "1 quarters, 3 dimes, 3 nickels, 30 pennies.\n",
            "1 quarters, 3 dimes, 4 nickels, 25 pennies.\n",
            "1 quarters, 3 dimes, 5 nickels, 20 pennies.\n",
            "1 quarters, 3 dimes, 6 nickels, 15 pennies.\n",
            "1 quarters, 3 dimes, 7 nickels, 10 pennies.\n",
            "1 quarters, 3 dimes, 8 nickels, 5 pennies.\n",
            "1 quarters, 3 dimes, 9 nickels, 0 pennies.\n",
            "1 quarters, 4 dimes, 0 nickels, 35 pennies.\n",
            "1 quarters, 4 dimes, 1 nickels, 30 pennies.\n",
            "1 quarters, 4 dimes, 2 nickels, 25 pennies.\n",
            "1 quarters, 4 dimes, 3 nickels, 20 pennies.\n",
            "1 quarters, 4 dimes, 4 nickels, 15 pennies.\n",
            "1 quarters, 4 dimes, 5 nickels, 10 pennies.\n",
            "1 quarters, 4 dimes, 6 nickels, 5 pennies.\n",
            "1 quarters, 4 dimes, 7 nickels, 0 pennies.\n",
            "1 quarters, 5 dimes, 0 nickels, 25 pennies.\n",
            "1 quarters, 5 dimes, 1 nickels, 20 pennies.\n",
            "1 quarters, 5 dimes, 2 nickels, 15 pennies.\n",
            "1 quarters, 5 dimes, 3 nickels, 10 pennies.\n",
            "1 quarters, 5 dimes, 4 nickels, 5 pennies.\n",
            "1 quarters, 5 dimes, 5 nickels, 0 pennies.\n",
            "1 quarters, 6 dimes, 0 nickels, 15 pennies.\n",
            "1 quarters, 6 dimes, 1 nickels, 10 pennies.\n",
            "1 quarters, 6 dimes, 2 nickels, 5 pennies.\n",
            "1 quarters, 6 dimes, 3 nickels, 0 pennies.\n",
            "1 quarters, 7 dimes, 0 nickels, 5 pennies.\n",
            "1 quarters, 7 dimes, 1 nickels, 0 pennies.\n",
            "2 quarters, 0 dimes, 0 nickels, 50 pennies.\n",
            "2 quarters, 0 dimes, 1 nickels, 45 pennies.\n",
            "2 quarters, 0 dimes, 2 nickels, 40 pennies.\n",
            "2 quarters, 0 dimes, 3 nickels, 35 pennies.\n",
            "2 quarters, 0 dimes, 4 nickels, 30 pennies.\n",
            "2 quarters, 0 dimes, 5 nickels, 25 pennies.\n",
            "2 quarters, 0 dimes, 6 nickels, 20 pennies.\n",
            "2 quarters, 0 dimes, 7 nickels, 15 pennies.\n",
            "2 quarters, 0 dimes, 8 nickels, 10 pennies.\n",
            "2 quarters, 0 dimes, 9 nickels, 5 pennies.\n",
            "2 quarters, 0 dimes, 10 nickels, 0 pennies.\n",
            "2 quarters, 1 dimes, 0 nickels, 40 pennies.\n",
            "2 quarters, 1 dimes, 1 nickels, 35 pennies.\n",
            "2 quarters, 1 dimes, 2 nickels, 30 pennies.\n",
            "2 quarters, 1 dimes, 3 nickels, 25 pennies.\n",
            "2 quarters, 1 dimes, 4 nickels, 20 pennies.\n",
            "2 quarters, 1 dimes, 5 nickels, 15 pennies.\n",
            "2 quarters, 1 dimes, 6 nickels, 10 pennies.\n",
            "2 quarters, 1 dimes, 7 nickels, 5 pennies.\n",
            "2 quarters, 1 dimes, 8 nickels, 0 pennies.\n",
            "2 quarters, 2 dimes, 0 nickels, 30 pennies.\n",
            "2 quarters, 2 dimes, 1 nickels, 25 pennies.\n",
            "2 quarters, 2 dimes, 2 nickels, 20 pennies.\n",
            "2 quarters, 2 dimes, 3 nickels, 15 pennies.\n",
            "2 quarters, 2 dimes, 4 nickels, 10 pennies.\n",
            "2 quarters, 2 dimes, 5 nickels, 5 pennies.\n",
            "2 quarters, 2 dimes, 6 nickels, 0 pennies.\n",
            "2 quarters, 3 dimes, 0 nickels, 20 pennies.\n",
            "2 quarters, 3 dimes, 1 nickels, 15 pennies.\n",
            "2 quarters, 3 dimes, 2 nickels, 10 pennies.\n",
            "2 quarters, 3 dimes, 3 nickels, 5 pennies.\n",
            "2 quarters, 3 dimes, 4 nickels, 0 pennies.\n",
            "2 quarters, 4 dimes, 0 nickels, 10 pennies.\n",
            "2 quarters, 4 dimes, 1 nickels, 5 pennies.\n",
            "2 quarters, 4 dimes, 2 nickels, 0 pennies.\n",
            "2 quarters, 5 dimes, 0 nickels, 0 pennies.\n",
            "3 quarters, 0 dimes, 0 nickels, 25 pennies.\n",
            "3 quarters, 0 dimes, 1 nickels, 20 pennies.\n",
            "3 quarters, 0 dimes, 2 nickels, 15 pennies.\n",
            "3 quarters, 0 dimes, 3 nickels, 10 pennies.\n",
            "3 quarters, 0 dimes, 4 nickels, 5 pennies.\n",
            "3 quarters, 0 dimes, 5 nickels, 0 pennies.\n",
            "3 quarters, 1 dimes, 0 nickels, 15 pennies.\n",
            "3 quarters, 1 dimes, 1 nickels, 10 pennies.\n",
            "3 quarters, 1 dimes, 2 nickels, 5 pennies.\n",
            "3 quarters, 1 dimes, 3 nickels, 0 pennies.\n",
            "3 quarters, 2 dimes, 0 nickels, 5 pennies.\n",
            "3 quarters, 2 dimes, 1 nickels, 0 pennies.\n",
            "4 quarters, 0 dimes, 0 nickels, 0 pennies.\n"
          ],
          "name": "stdout"
        }
      ]
    },
    {
      "cell_type": "markdown",
      "metadata": {
        "id": "rUPDjYiIkbgs"
      },
      "source": [
        "##### Q7. Ask the user to enter two positive integers between 1 and 100. Read those integers. Then output a multiplication table of the first number times the second number. \n",
        "\n",
        "Note: You have to ensure the entered numbers are between 1 and 100 only.\n",
        "\n",
        "```\n",
        "Please enter an integer: 5\n",
        "Please enter another integer: 20\n",
        "5 x 1 = 5\n",
        "5 x 2 = 10\n",
        "5 x 3 = 15\n",
        "…\n",
        "5 x 20 = 100\n",
        "```"
      ]
    },
    {
      "cell_type": "code",
      "metadata": {
        "id": "Qg0Orv1klHzA",
        "colab": {
          "base_uri": "https://localhost:8080/"
        },
        "outputId": "1e61fa8e-fbfd-451a-c0da-2817cd27e500"
      },
      "source": [
        "num1 = input(\"Please enter an integer: \")\n",
        "num2 = input(\"Please enter another integer: \")\n",
        "if num1.isdigit() and num2.isdigit() and int(num1) in range(1,101,1) and int(num2) in range(1,101,1): \n",
        "  #make sure the inputs are digits and are between 1 and 100\n",
        "  for i in range(1,int(num2)+1,1):\n",
        "    print(num1,\"x\",i,\"=\",str(int(num1)*i))\n",
        "else:\n",
        "  print(\"Invalid Input\")"
      ],
      "execution_count": null,
      "outputs": [
        {
          "output_type": "stream",
          "text": [
            "Please enter an integer: 100\n",
            "Please enter another integer: 100\n",
            "100 x 1 = 100\n",
            "100 x 2 = 200\n",
            "100 x 3 = 300\n",
            "100 x 4 = 400\n",
            "100 x 5 = 500\n",
            "100 x 6 = 600\n",
            "100 x 7 = 700\n",
            "100 x 8 = 800\n",
            "100 x 9 = 900\n",
            "100 x 10 = 1000\n",
            "100 x 11 = 1100\n",
            "100 x 12 = 1200\n",
            "100 x 13 = 1300\n",
            "100 x 14 = 1400\n",
            "100 x 15 = 1500\n",
            "100 x 16 = 1600\n",
            "100 x 17 = 1700\n",
            "100 x 18 = 1800\n",
            "100 x 19 = 1900\n",
            "100 x 20 = 2000\n",
            "100 x 21 = 2100\n",
            "100 x 22 = 2200\n",
            "100 x 23 = 2300\n",
            "100 x 24 = 2400\n",
            "100 x 25 = 2500\n",
            "100 x 26 = 2600\n",
            "100 x 27 = 2700\n",
            "100 x 28 = 2800\n",
            "100 x 29 = 2900\n",
            "100 x 30 = 3000\n",
            "100 x 31 = 3100\n",
            "100 x 32 = 3200\n",
            "100 x 33 = 3300\n",
            "100 x 34 = 3400\n",
            "100 x 35 = 3500\n",
            "100 x 36 = 3600\n",
            "100 x 37 = 3700\n",
            "100 x 38 = 3800\n",
            "100 x 39 = 3900\n",
            "100 x 40 = 4000\n",
            "100 x 41 = 4100\n",
            "100 x 42 = 4200\n",
            "100 x 43 = 4300\n",
            "100 x 44 = 4400\n",
            "100 x 45 = 4500\n",
            "100 x 46 = 4600\n",
            "100 x 47 = 4700\n",
            "100 x 48 = 4800\n",
            "100 x 49 = 4900\n",
            "100 x 50 = 5000\n",
            "100 x 51 = 5100\n",
            "100 x 52 = 5200\n",
            "100 x 53 = 5300\n",
            "100 x 54 = 5400\n",
            "100 x 55 = 5500\n",
            "100 x 56 = 5600\n",
            "100 x 57 = 5700\n",
            "100 x 58 = 5800\n",
            "100 x 59 = 5900\n",
            "100 x 60 = 6000\n",
            "100 x 61 = 6100\n",
            "100 x 62 = 6200\n",
            "100 x 63 = 6300\n",
            "100 x 64 = 6400\n",
            "100 x 65 = 6500\n",
            "100 x 66 = 6600\n",
            "100 x 67 = 6700\n",
            "100 x 68 = 6800\n",
            "100 x 69 = 6900\n",
            "100 x 70 = 7000\n",
            "100 x 71 = 7100\n",
            "100 x 72 = 7200\n",
            "100 x 73 = 7300\n",
            "100 x 74 = 7400\n",
            "100 x 75 = 7500\n",
            "100 x 76 = 7600\n",
            "100 x 77 = 7700\n",
            "100 x 78 = 7800\n",
            "100 x 79 = 7900\n",
            "100 x 80 = 8000\n",
            "100 x 81 = 8100\n",
            "100 x 82 = 8200\n",
            "100 x 83 = 8300\n",
            "100 x 84 = 8400\n",
            "100 x 85 = 8500\n",
            "100 x 86 = 8600\n",
            "100 x 87 = 8700\n",
            "100 x 88 = 8800\n",
            "100 x 89 = 8900\n",
            "100 x 90 = 9000\n",
            "100 x 91 = 9100\n",
            "100 x 92 = 9200\n",
            "100 x 93 = 9300\n",
            "100 x 94 = 9400\n",
            "100 x 95 = 9500\n",
            "100 x 96 = 9600\n",
            "100 x 97 = 9700\n",
            "100 x 98 = 9800\n",
            "100 x 99 = 9900\n",
            "100 x 100 = 10000\n"
          ],
          "name": "stdout"
        }
      ]
    },
    {
      "cell_type": "markdown",
      "metadata": {
        "id": "SbnbPUPTlLD9"
      },
      "source": [
        "##### Q8. Write a program to ask the user to enter a password. Then check to see if it is a valid password based on these requirements -\n",
        "\n",
        "Must be at least 8 characters long\n",
        "\n",
        "Must contain both uppercase and lowercase letters\n",
        "\n",
        "Must contain at least one number between 0-9\n",
        "\n",
        "Must contain a special character -!,@,#,$\n",
        "\n",
        "If the password is not valid, ask the user to re-enter. This should continue until the user enters a valid password. After a valid password is entered, print Access Granted!\n",
        "\n",
        "```\n",
        "Please enter a password. Follow these requirements - \n",
        "a. Must be at least 8 characters long\n",
        "b. Must contain both uppercase and lowercase letters\n",
        "c. Must contain at least one number between 0-9\n",
        "d. Must contain a special character -!,@,#,$\n",
        "Password: HelloWorld1\n",
        "Invalid password. Try again!\n",
        "Password: Hello@World1\n",
        "Access Granted!\n",
        "```\n"
      ]
    },
    {
      "cell_type": "code",
      "metadata": {
        "id": "OXmZ177Rl-RV",
        "colab": {
          "base_uri": "https://localhost:8080/"
        },
        "outputId": "1130ef78-e7cf-415b-e484-5aed8310ce0c"
      },
      "source": [
        "import re\n",
        "print(\"Please enter a password. Follow these requirements - \")\n",
        "print(\"a. Must be at least 8 characters long\")\n",
        "print(\"b. Must contain both uppercase and lowercase letters\")\n",
        "print(\"c. Must contain at least one number between 0-9\")\n",
        "print(\"d. Must contain a special character -!,@,#,$\")\n",
        "while True: \n",
        "  password = input(\"Password: \") \n",
        "  if len(password) < 8:\n",
        "    print(\"Invalid password. Try again!\")\n",
        "  elif password.isupper() or password.islower():\n",
        "    print(\"Invalid password. Try again!\")\n",
        "  elif not re.search(\"[0-9]\", password):\n",
        "    print(\"Invalid password. Try again!\")\n",
        "  elif not re.search(\"[!@#$]\", password): \n",
        "    print(\"Invalid password. Try again!\")\n",
        "  else:\n",
        "    print(\"Access Granted!\")\n",
        "    break\n"
      ],
      "execution_count": 65,
      "outputs": [
        {
          "output_type": "stream",
          "text": [
            "Please enter a password. Follow these requirements - \n",
            "a. Must be at least 8 characters long\n",
            "b. Must contain both uppercase and lowercase letters\n",
            "c. Must contain at least one number between 0-9\n",
            "d. Must contain a special character -!,@,#,$\n",
            "Password: HELLOWORLD!@\n",
            "Invalid password. Try again!\n",
            "Password: HELLOWORLD!2\n",
            "Invalid password. Try again!\n",
            "Password: helloworld#3\n",
            "Invalid password. Try again!\n",
            "Password: Hello@World1\n",
            "Access Granted!\n"
          ],
          "name": "stdout"
        }
      ]
    },
    {
      "cell_type": "markdown",
      "metadata": {
        "id": "-0sdutTDnTKA"
      },
      "source": [
        "##### Q9. Given the score sheet of participants in a competition, you are required to find the runner-up score. You are given scores in a list. Find the score of the runner-up.\n",
        "\n",
        "```\n",
        "list1 - [2, 3, 6, 6, 5]\n",
        "runner_up - 5\n",
        "\n",
        "list2 - [1, 7, 5, 3, 10, 4, 5, 5, 6, 11]\n",
        "runner_up - 10\n",
        "```"
      ]
    },
    {
      "cell_type": "code",
      "metadata": {
        "id": "12YP9OaqpGRK",
        "colab": {
          "base_uri": "https://localhost:8080/"
        },
        "outputId": "384218ae-5fb7-49b9-a784-81e2d7cd4903"
      },
      "source": [
        "list = sorted(map(int, input().split())) # \"map\" does NOT return a list; use \"sorted\" to return a sorted list\n",
        "uniqueList = []\n",
        "for num in list:\n",
        "  if num not in uniqueList:\n",
        "    uniqueList.append(num)\n",
        "uniqueList.sort()\n",
        "runner_up = uniqueList[-2]\n",
        "print(\"runner_up -\",runner_up)"
      ],
      "execution_count": null,
      "outputs": [
        {
          "output_type": "stream",
          "text": [
            "1 7 5 3 10 4 5 5 6 11\n",
            "runner_up - 10\n"
          ],
          "name": "stdout"
        }
      ]
    }
  ]
}